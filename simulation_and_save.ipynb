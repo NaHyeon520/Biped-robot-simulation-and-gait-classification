{
 "cells": [
  {
   "cell_type": "code",
   "execution_count": null,
   "metadata": {},
   "outputs": [],
   "source": [
    "install_packages=False\n",
    "if install_packages:\n",
    "    !pip install scipy\n",
    "    !pip install numpy\n",
    "    !pip install matlab\n",
    "    !pip install matlabengine\n",
    "    !pip install openpyxl"
   ]
  },
  {
   "cell_type": "code",
   "execution_count": 6,
   "metadata": {},
   "outputs": [],
   "source": [
    "import matlab.engine\n",
    "import numpy as np\n",
    "import scipy.io\n",
    "import openpyxl"
   ]
  },
  {
   "cell_type": "markdown",
   "metadata": {},
   "source": [
    "## Simulation test"
   ]
  },
  {
   "cell_type": "code",
   "execution_count": 13,
   "metadata": {},
   "outputs": [],
   "source": [
    "# MATLAB 엔진 시작\n",
    "eng = matlab.engine.start_matlab()\n",
    "\n",
    "# Simulink 모델 실행 및 결과 값 받기\n",
    "def run_simulink_model(action):#, agent):\n",
    "    # MATLAB에서 변수 설정\n",
    "    eng.workspace['action'] = matlab.double(action)#.tolist())\n",
    "    #eng.workspace['agent'] = agent\n",
    "    eng.eval(\"noiseStd=0.01\", nargout=0)\n",
    "    eng.eval(\"load trainedAgent_3D_06_22_2024_1810.mat\", nargout=0)\n",
    "    # Simulink 모델 실행\n",
    "    eng.eval(\"simout = sim('walkingRobotRL3D_pytest2.slx');\", nargout=0)\n",
    "    #print(eng.workspace.keys())\n",
    "    # 결과 값 가져오기\n",
    "    result=[]\n",
    "    result.append(eng.workspace['cumulative_reward'])\n",
    "    result.append(eng.workspace['yaw'])\n",
    "    result.append(eng.workspace['pitch'])\n",
    "    result.append(eng.workspace['roll'])\n",
    "    result.append(eng.workspace['X'])\n",
    "    result.append(eng.workspace['Y'])\n",
    "    result.append(eng.workspace['Z'])\n",
    "    result.append(eng.workspace['VX'])\n",
    "    result.append(eng.workspace['VY'])\n",
    "    result.append(eng.workspace['VZ'])\n",
    "    result.append(eng.workspace['AX'])\n",
    "    result.append(eng.workspace['AY'])\n",
    "    result.append(eng.workspace['AZ'])\n",
    "    result.append(eng.workspace['wx'])\n",
    "    result.append(eng.workspace['wy'])\n",
    "    result.append(eng.workspace['wz'])\n",
    "    result.append(eng.workspace['actPower'])\n",
    "    result.append(eng.workspace['R_ankle_roll_angle'])\n",
    "    result.append(eng.workspace['R_ankle_roll_speed'])\n",
    "    result.append(eng.workspace['R_ankle_roll_torque'])\n",
    "    result.append(eng.workspace['R_ankle_pitch_angle'])\n",
    "    result.append(eng.workspace['R_ankle_pitch_speed'])\n",
    "    result.append(eng.workspace['R_ankle_pitch_torque'])\n",
    "    result.append(eng.workspace['R_knee_angle'])\n",
    "    result.append(eng.workspace['R_knee_speed'])\n",
    "    result.append(eng.workspace['R_knee_torque'])\n",
    "    result.append(eng.workspace['R_hip_roll_angle'])\n",
    "    result.append(eng.workspace['R_hip_roll_speed'])\n",
    "    result.append(eng.workspace['R_hip_roll_torque'])\n",
    "    result.append(eng.workspace['R_hip_pitch_angle'])\n",
    "    result.append(eng.workspace['R_hip_pitch_speed'])\n",
    "    result.append(eng.workspace['R_hip_pitch_torque'])\n",
    "    result.append(eng.workspace['L_ankle_roll_angle'])\n",
    "    result.append(eng.workspace['L_ankle_roll_speed'])\n",
    "    result.append(eng.workspace['L_ankle_roll_torque'])\n",
    "    result.append(eng.workspace['L_ankle_pitch_angle'])\n",
    "    result.append(eng.workspace['L_ankle_pitch_speed'])\n",
    "    result.append(eng.workspace['L_ankle_pitch_torque'])\n",
    "    result.append(eng.workspace['L_knee_angle'])\n",
    "    result.append(eng.workspace['L_knee_speed'])\n",
    "    result.append(eng.workspace['L_knee_torque'])\n",
    "    result.append(eng.workspace['L_hip_roll_angle'])\n",
    "    result.append(eng.workspace['L_hip_roll_speed'])\n",
    "    result.append(eng.workspace['L_hip_roll_torque'])\n",
    "    result.append(eng.workspace['L_hip_pitch_angle'])\n",
    "    result.append(eng.workspace['L_hip_pitch_speed'])\n",
    "    result.append(eng.workspace['L_hip_pitch_torque'])\n",
    "\n",
    "    #sensor_res=eng.workspace['yaw']#고치기\n",
    "    #reward_result = eng.workspace['simout1']\n",
    "    #print(result)\n",
    "    # 필요한 데이터를 추출하여 numpy 배열로 변환\n",
    "    #state = np.array(result)\n",
    "    \n",
    "    return result"
   ]
  },
  {
   "cell_type": "code",
   "execution_count": 66,
   "metadata": {},
   "outputs": [],
   "source": [
    "# Don't execute\n",
    "# 에이전트 모델 불러오기\n",
    "def load_agent_model(mat_file):\n",
    "    # MATLAB 함수 호출\n",
    "    mat_file_res = scipy.io.loadmat(mat_file)\n",
    "    print(mat_file_res.keys())\n",
    "    print(mat_file_res)\n",
    "    agent=mat_file_res['None'][0]\n",
    "    #agent = eng.load_agent_model(mat_file)\n",
    "    return agent"
   ]
  },
  {
   "cell_type": "code",
   "execution_count": 65,
   "metadata": {},
   "outputs": [
    {
     "name": "stdout",
     "output_type": "stream",
     "text": [
      "(b'agent', b'MCOS', b'rl.agent.rlDDPGAgent', array([[3707764736],\n",
      "       [         2],\n",
      "       [         1],\n",
      "       [         1],\n",
      "       [         1],\n",
      "       [        23]], dtype=uint32))\n"
     ]
    }
   ],
   "source": [
    "# Don't execute\n",
    "#mat_file = 'trainedAgent_3D_06_22_2024_1810.mat'\n",
    "#mat_file_res = scipy.io.loadmat(mat_file)\n",
    "#print(mat_file_res.keys())\n",
    "#print(mat_file_res)\n",
    "#print(mat_file_res['None'][0])"
   ]
  },
  {
   "cell_type": "code",
   "execution_count": 14,
   "metadata": {},
   "outputs": [],
   "source": [
    "# MAT 파일 경로\n",
    "mat_file = 'trainedAgent_3D_06_22_2024_1810.mat'\n",
    "\n",
    "# 에이전트 모델 불러오기\n",
    "#agent = load_agent_model(mat_file)\n",
    "\n",
    "# 초기 동작 예시\n",
    "action = [0, 0]\n",
    "\n",
    "# 시뮬레이션 실행 및 결과 값 출력\n",
    "result = run_simulink_model(action)#, agent)\n",
    "#print(sensor_res, reward_result)\n"
   ]
  },
  {
   "cell_type": "code",
   "execution_count": 9,
   "metadata": {},
   "outputs": [
    {
     "data": {
      "text/plain": [
       "47"
      ]
     },
     "execution_count": 9,
     "metadata": {},
     "output_type": "execute_result"
    }
   ],
   "source": [
    "len(result)"
   ]
  },
  {
   "cell_type": "code",
   "execution_count": 10,
   "metadata": {},
   "outputs": [
    {
     "data": {
      "text/plain": [
       "'cumulative_reward'"
      ]
     },
     "execution_count": 10,
     "metadata": {},
     "output_type": "execute_result"
    }
   ],
   "source": [
    "result[0]['time']#time\n",
    "result[0]['signals']['values']#->np.array->datas\n",
    "result[0]['signals']['label']#->feature name"
   ]
  },
  {
   "cell_type": "code",
   "execution_count": 15,
   "metadata": {},
   "outputs": [],
   "source": [
    "label_list=[]\n",
    "for i in range(len(result)):\n",
    "    label_list.append(result[i]['signals']['label'])"
   ]
  },
  {
   "cell_type": "markdown",
   "metadata": {},
   "source": [
    "## Save to Excel file test"
   ]
  },
  {
   "cell_type": "code",
   "execution_count": 22,
   "metadata": {},
   "outputs": [],
   "source": [
    "import openpyxl\n",
    "from openpyxl import Workbook\n",
    "\n",
    "# 새로운 엑셀 워크북 생성\n",
    "wb = Workbook()\n",
    "\n",
    "# 기본 시트 이름 변경\n",
    "ws = wb.active\n",
    "ws.title = label_list[0]\n",
    "\n",
    "# 추가 시트 생성\n",
    "sheets = label_list[1:]\n",
    "for sheet_name in sheets:\n",
    "    wb.create_sheet(title=sheet_name)\n",
    "\n",
    "data=[1,2,3,4,5]\n",
    "sim_count=2\n",
    "for sim_num in range(0,sim_count):\n",
    "    # 초기 동작 예시\n",
    "    action = [0, 0]\n",
    "    # 시뮬레이션 실행\n",
    "    result = run_simulink_model(action)\n",
    "\n",
    "    # 각 시트에 열 추가\n",
    "    for feature_num in len(feature_names):\n",
    "        ws = wb[feature_names[feature_num]]\n",
    "        # A1 셀에 데이터 추가 (예시)\n",
    "        #ws['A1'] = [1,2,3,4,5]\n",
    "        # 열에 데이터 추가 (예시)\n",
    "        #for row in range(2, 11):\n",
    "        #   ws[f'A{row}'] = f\"Data {row-1}\"\n",
    "        data=np.array(result[feature_num]['signals']['values'])\n",
    "        for i, value in enumerate(data, start=1):\n",
    "            ws.cell(row=i, column=sim_num, value=value)\n",
    "        #for i, value in enumerate(data, start=2):\n",
    "           # ws.cell(row=i, column=2, value=value) #column을 1부터 100까지\n",
    "\n",
    "# 엑셀 파일 저장\n",
    "wb.save(\"example.xlsx\")\n"
   ]
  },
  {
   "cell_type": "markdown",
   "metadata": {},
   "source": [
    "## FINAL: Simulation and Save"
   ]
  },
  {
   "cell_type": "markdown",
   "metadata": {},
   "source": [
    "여기부터 실행"
   ]
  },
  {
   "cell_type": "code",
   "execution_count": 1,
   "metadata": {},
   "outputs": [],
   "source": [
    "import matlab.engine\n",
    "import numpy as np\n",
    "import scipy.io\n",
    "import openpyxl\n",
    "from openpyxl import Workbook\n",
    "import datetime"
   ]
  },
  {
   "cell_type": "markdown",
   "metadata": {},
   "source": [
    "matlab engine start & model run function"
   ]
  },
  {
   "cell_type": "code",
   "execution_count": 2,
   "metadata": {},
   "outputs": [],
   "source": [
    "# MATLAB 엔진 시작\n",
    "eng = matlab.engine.start_matlab()\n",
    "\n",
    "# Simulink 모델 실행 및 결과 값 받기\n",
    "def run_simulink_model(agent_name, noiseStd, action):#, agent):\n",
    "    # MATLAB에서 변수 설정\n",
    "    eng.workspace['action'] = matlab.double(action)#.tolist())\n",
    "    #eng.workspace['agent'] = agent\n",
    "    eng.eval(\"noiseStd=\"+str(noiseStd), nargout=0)\n",
    "    eng.eval(\"load \"+ agent_name, nargout=0)\n",
    "    # Simulink 모델 실행\n",
    "    eng.eval(\"simout = sim('walkingRobotRL3D_pytest2.slx');\", nargout=0)\n",
    "\n",
    "    # 결과 값 가져오기\n",
    "    result=[]\n",
    "    result.append(eng.workspace['cumulative_reward'])\n",
    "    result.append(eng.workspace['yaw'])\n",
    "    result.append(eng.workspace['pitch'])\n",
    "    result.append(eng.workspace['roll'])\n",
    "    result.append(eng.workspace['X'])\n",
    "    result.append(eng.workspace['Y'])\n",
    "    result.append(eng.workspace['Z'])\n",
    "    result.append(eng.workspace['VX'])\n",
    "    result.append(eng.workspace['VY'])\n",
    "    result.append(eng.workspace['VZ'])\n",
    "    result.append(eng.workspace['AX'])\n",
    "    result.append(eng.workspace['AY'])\n",
    "    result.append(eng.workspace['AZ'])\n",
    "    result.append(eng.workspace['wx'])\n",
    "    result.append(eng.workspace['wy'])\n",
    "    result.append(eng.workspace['wz'])\n",
    "    result.append(eng.workspace['actPower'])\n",
    "    result.append(eng.workspace['R_ankle_roll_angle'])\n",
    "    result.append(eng.workspace['R_ankle_roll_speed'])\n",
    "    result.append(eng.workspace['R_ankle_roll_torque'])\n",
    "    result.append(eng.workspace['R_ankle_pitch_angle'])\n",
    "    result.append(eng.workspace['R_ankle_pitch_speed'])\n",
    "    result.append(eng.workspace['R_ankle_pitch_torque'])\n",
    "    result.append(eng.workspace['R_knee_angle'])\n",
    "    result.append(eng.workspace['R_knee_speed'])\n",
    "    result.append(eng.workspace['R_knee_torque'])\n",
    "    result.append(eng.workspace['R_hip_roll_angle'])\n",
    "    result.append(eng.workspace['R_hip_roll_speed'])\n",
    "    result.append(eng.workspace['R_hip_roll_torque'])\n",
    "    result.append(eng.workspace['R_hip_pitch_angle'])\n",
    "    result.append(eng.workspace['R_hip_pitch_speed'])\n",
    "    result.append(eng.workspace['R_hip_pitch_torque'])\n",
    "    result.append(eng.workspace['L_ankle_roll_angle'])\n",
    "    result.append(eng.workspace['L_ankle_roll_speed'])\n",
    "    result.append(eng.workspace['L_ankle_roll_torque'])\n",
    "    result.append(eng.workspace['L_ankle_pitch_angle'])\n",
    "    result.append(eng.workspace['L_ankle_pitch_speed'])\n",
    "    result.append(eng.workspace['L_ankle_pitch_torque'])\n",
    "    result.append(eng.workspace['L_knee_angle'])\n",
    "    result.append(eng.workspace['L_knee_speed'])\n",
    "    result.append(eng.workspace['L_knee_torque'])\n",
    "    result.append(eng.workspace['L_hip_roll_angle'])\n",
    "    result.append(eng.workspace['L_hip_roll_speed'])\n",
    "    result.append(eng.workspace['L_hip_roll_torque'])\n",
    "    result.append(eng.workspace['L_hip_pitch_angle'])\n",
    "    result.append(eng.workspace['L_hip_pitch_speed'])\n",
    "    result.append(eng.workspace['L_hip_pitch_torque'])\n",
    "\n",
    "    #sensor_res=eng.workspace['yaw']#고치기\n",
    "    #reward_result = eng.workspace['simout1']\n",
    "    #print(result)\n",
    "    # 필요한 데이터를 추출하여 numpy 배열로 변환\n",
    "    #state = np.array(result)\n",
    "    \n",
    "    return result"
   ]
  },
  {
   "cell_type": "markdown",
   "metadata": {},
   "source": [
    "simulation & save"
   ]
  },
  {
   "cell_type": "code",
   "execution_count": 3,
   "metadata": {},
   "outputs": [],
   "source": [
    "feature_names=[\"cumulative_reward\", \"yaw\", \"pitch\", \"roll\", \"X\", \"Y\", \"Z\", \"VX\", \"VY\", \"VZ\",\n",
    "    \"AX\", \"AY\", \"AZ\", \"wx\", \"wv\", \"wz\", \"actPower\", \"R_ankle_roll_angle\", 'R_ankle_roll_speed', \n",
    "    'R_ankle_roll_torque', 'R_ankle_pitch_angle', 'R_ankle_pitch_speed', 'R_ankle_pitch_torque',\n",
    "    'R_knee_angle', 'R_knee_speed', 'R_knee_torque', 'R_hip_roll_angle', 'R_hip_roll_speed',\n",
    "    'R_hip_roll_torque', 'R_hip_pitch_angle', 'R_hip_pitch_speed', 'R_hip_pitch_torque',\n",
    "    'L_ankle_roll_angle','L_ankle_roll_speed', 'L_ankle_roll_torque', 'L_ankle_pitch_angle',\n",
    "    'L_ankle_pitch_speed','L_ankle_pitch_torque','L_knee_angle','L_knee_speed','L_knee_torque',\n",
    "    'L_hip_roll_angle', 'L_hip_roll_speed', 'L_hip_roll_torque','L_hip_pitch_angle','L_hip_pitch_speed', 'L_hip_pitch_torque']"
   ]
  },
  {
   "cell_type": "code",
   "execution_count": 4,
   "metadata": {},
   "outputs": [],
   "source": [
    "# 새로운 엑셀 워크북 생성\n",
    "wb = Workbook()\n",
    "\n",
    "# 기본 시트 이름 변경\n",
    "ws = wb.active\n",
    "ws.title = feature_names[0]\n",
    "\n",
    "# 추가 시트 생성\n",
    "sheets = feature_names[1:]\n",
    "for sheet_name in sheets:\n",
    "    wb.create_sheet(title=sheet_name)\n",
    "\n",
    "noiseStd=0.01\n",
    "#agent_name=\"./models/DDPGtrainedAgent_3D_06_22_2024_1810.mat\"\n",
    "agent_name=\"./models/TD3trainedAgent_06_26_2024_1840.mat\"\n",
    "sim_count=100\n",
    "for sim_num in range(1,sim_count+1):\n",
    "    # 초기 동작 예시\n",
    "    action = [0, 0]\n",
    "    # 시뮬레이션 실행\n",
    "    result = run_simulink_model(agent_name, noiseStd, action)\n",
    "\n",
    "    # 각 시트에 데이터 추가\n",
    "    for feature_num in range(0,len(feature_names)):\n",
    "        ws = wb[feature_names[feature_num]] #select sheet\n",
    "\n",
    "        data=np.array(result[feature_num]['signals']['values']) #get data\n",
    "        flat_data = [item for sublist in data for item in sublist] #change to flat data list\n",
    "\n",
    "        for i, value in enumerate(flat_data, start=1):\n",
    "            ws.cell(row=i, column=sim_num, value=value)\n",
    "\n",
    "\n",
    "# 엑셀 파일 저장\n",
    "wb.save(\"./excel_files/\"+agent_name.split(\".\")[1].split(\"/\")[2]+\"_\"+str(noiseStd)+\"_\"+datetime.datetime.now().strftime('%Y_%m_%d_%H%M')+\".xlsx\")"
   ]
  }
 ],
 "metadata": {
  "kernelspec": {
   "display_name": "base",
   "language": "python",
   "name": "python3"
  },
  "language_info": {
   "codemirror_mode": {
    "name": "ipython",
    "version": 3
   },
   "file_extension": ".py",
   "mimetype": "text/x-python",
   "name": "python",
   "nbconvert_exporter": "python",
   "pygments_lexer": "ipython3",
   "version": "3.10.11"
  }
 },
 "nbformat": 4,
 "nbformat_minor": 2
}
